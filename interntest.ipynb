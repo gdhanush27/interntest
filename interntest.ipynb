{
 "cells": [
  {
   "cell_type": "code",
   "execution_count": 1,
   "id": "4df41c0c",
   "metadata": {},
   "outputs": [],
   "source": [
    "from urllib.request import urlopen\n",
    "from bs4 import BeautifulSoup\n",
    "import re\n",
    "import pandas as pd\n",
    "import csv\n",
    "\n",
    "link = \"https://www.nature.com/articles/s41598-023-28880-x\"\n",
    "page = urlopen(link)\n",
    "html = page.read().decode(\"utf-8\")\n",
    "soup = BeautifulSoup(html, \"html.parser\")\n",
    "paper = urlopen(link)\n",
    "html_encoded = paper.read()\n",
    "html = html_encoded.decode(\"utf-8\")"
   ]
  },
  {
   "cell_type": "code",
   "execution_count": 2,
   "id": "d6230d91",
   "metadata": {},
   "outputs": [
    {
     "name": "stdout",
     "output_type": "stream",
     "text": [
      "Title :\n",
      " Enhanced bacterial clearance in early secondary sepsis in a porcine intensive care model\n"
     ]
    }
   ],
   "source": [
    "pattern = \"<h1.*?>.*?</h1.*?>\"\n",
    "match_results = re.search(pattern, html, re.IGNORECASE)\n",
    "title = match_results.group()\n",
    "title = re.sub(\"<.*?>\", \"\", title)\n",
    "\n",
    "print(\"Title :\\n\",title)"
   ]
  },
  {
   "cell_type": "code",
   "execution_count": 3,
   "id": "74360228",
   "metadata": {},
   "outputs": [
    {
     "name": "stdout",
     "output_type": "stream",
     "text": [
      "\n",
      "\n",
      "Abstract : \n",
      " Early secondary sepsis (ESS), occurring after recent inflammatory activation is associated with a reduced inflammatory response. If this attenuation also is associated with decreased bacterial killing, the need for antibiotic efficacy might be greater than in primary sepsis (PS). This prospective, randomised interventional study compares bacterial killing in ESS and PS in a large animal intensive care sepsis model. 38 pigs were intravenously administered live Escherichia coli for 3 h. Before baseline ESS was pre-exposed to endotoxin 24 h, whereas PS was not. Bacterial growth was measured in organs immediately post-mortem, repeatedly during 6 h in blood in vivo and for blood intrinsic bactericidal capacity ex vivo. Splenic growth was lower in ESS animals, than in PS animals (3.31 ± 0.12, vs. 3.84 ± 0.14 log10 CFU/mL, mean ± SEM) (p &lt; 0.01) with a similar trend in hepatic growth (p = NS). Blood bacterial count at 2 h correlated with splenic bacterial count in ESS (ESS: r = 0.71, p &lt; 0.001) and to blood killing capacity in PS (PS: r = 0.69, p &lt; 0.001). Attenuated inflammation in ESS is associated with enhanced antibacterial capacities in the spleen. In ESS blood bacterial count is related to splenic killing and in PS to blood bactericidal capacity. The results suggest no increased need for synergistic antibiotic combinations in ESS.\n"
     ]
    }
   ],
   "source": [
    "abt_index = html.find(\"Abstract\")\n",
    "start_abt = abt_index + len(\"Abstract\")\n",
    "end=html[start_abt:]\n",
    "\n",
    "pattern = \"<p.*?>.*?</p.*?>\"\n",
    "match_results = re.search(pattern, end, re.IGNORECASE)\n",
    "abt = match_results.group()\n",
    "abt = re.sub(\"<.*?>\", \"\", abt) \n",
    "\n",
    "print(\"\\n\\nAbstract : \\n\",abt)"
   ]
  },
  {
   "cell_type": "code",
   "execution_count": 4,
   "id": "dd70defd",
   "metadata": {},
   "outputs": [
    {
     "name": "stdout",
     "output_type": "stream",
     "text": [
      "\n",
      "\n",
      "Number of words in the body :\n",
      " 3007\n"
     ]
    }
   ],
   "source": [
    "body_index = html.find(\"<div class=\\\"c-article-body\\\">\")\n",
    "start_body = abt_index + len(\"<div class=\\\"c-article-body\\\">\")\n",
    "end_body=html.find(\"References\")\n",
    "end = html[start_body:end_body]\n",
    "\n",
    "pattern = \"<p.*?>.*?</p.*?>\"\n",
    "match_results = re.findall(pattern, end, re.IGNORECASE)\n",
    "\n",
    "body=''\n",
    "c=0\n",
    "for i in match_results:\n",
    "    if(c!=0):\n",
    "        body=body+' '+i\n",
    "    c=1\n",
    "\n",
    "body = re.sub(\"<.*?>\", \"\", body) \n",
    "body_1=body.split()\n",
    "print(\"\\n\\nNumber of words in the body :\\n\",len(body_1))"
   ]
  },
  {
   "cell_type": "code",
   "execution_count": 5,
   "id": "3c887411",
   "metadata": {},
   "outputs": [
    {
     "name": "stdout",
     "output_type": "stream",
     "text": [
      "\n",
      "\n",
      "No of images :\n",
      " 11\n"
     ]
    }
   ],
   "source": [
    "print(\"\\n\\nNo of images :\\n\",len(soup.find_all(\"img\")))"
   ]
  },
  {
   "cell_type": "code",
   "execution_count": 6,
   "id": "24025a34",
   "metadata": {
    "scrolled": false
   },
   "outputs": [
    {
     "name": "stdout",
     "output_type": "stream",
     "text": [
      "\n",
      "\n",
      "Referance : \n",
      " \n",
      "\n",
      "Singer, M. et al. The third international consensus definitions for sepsis and septic shock (sepsis-3). JAMA 315, 801–810 (2016).\n",
      "\n",
      "Hotchkiss, R. S., Monneret, G. &amp; Payen, D. Immunosuppression in sepsis: A novel understanding of the disorder and a new therapeutic approach. Lancet. Infect. Dis 13, 260–268. https://doi.org/10.1016/s1473-3099(13)70001-x (2013).\n",
      "\n",
      "Otto, G. P. et al. The late phase of sepsis is characterized by an increased microbiological burden and death rate. Crit. Care 15, R183 (2011).\n",
      "\n",
      "Torgersen, C. et al. Macroscopic postmortem findings in 235 surgical intensive care patients with sepsis. Anesth. Analg. 108, 1841–1847. https://doi.org/10.1213/ane.0b013e318195e11d (2009).\n",
      "\n",
      "Castegren, M. et al. Differences in organ dysfunction in endotoxin-tolerant pigs under intensive care exposed to a second hit of endotoxin. Shock 37, 501–510. https://doi.org/10.1097/SHK.0b013e318249bb0d (2012).\n",
      "\n",
      "Murphey, E., Fang, G., Varma, T. K. &amp; Sherwood, E. R. Improved bacterial clearance and decreased mortality can be induced by LPS tolerance and is not dependent upon IFN-γ. Shock 27, 289–295 (2007).\n",
      "\n",
      "Draisma, A., Pickkers, P., Bouw, M. P. &amp; van der Hoeven, J. G. Development of endotoxin tolerance in humans in vivo. Crit. Care Med. 37, 1261–1267. https://doi.org/10.1097/CCM.0b013e31819c3c67 (2009).\n",
      "\n",
      "Biswas, S. K. &amp; Lopez-Collazo, E. Kappa Endotoxin tolerance: New mechanisms, molecules and clinical significance. Trends Immunol. 30, 475–487. https://doi.org/10.1016/j.it.2009.07.009 (2009).\n",
      "\n",
      "Castegren, M., Jonasson, M., Castegren, S., Lipcsey, M. &amp; Sjolin, J. Initial levels of organ failure, microbial findings and mortality in intensive care-treated primary, secondary and tertiary sepsis. Crit. Care Resuscit. J. Aust. Acad. Crit. Care Med. 17, 174–181 (2015).\n",
      "\n",
      "Kumar, A. et al. Early combination antibiotic therapy yields improved survival compared with monotherapy in septic shock: A propensity-matched analysis. Crit. Care Med. 38, 1773–1785. https://doi.org/10.1097/CCM.0b013e3181eb3ccd (2010).\n",
      "\n",
      "Paul, M., Lador, A., Grozinsky-Glasberg, S. &amp; Leibovici, L. Beta lactam antibiotic monotherapy versus beta lactam-aminoglycoside antibiotic combination therapy for sepsis. Cochr. Database Syst. Rev. 2014, cd003344. https://doi.org/10.1002/14651858.CD003344.pub3 (2014).\n",
      "\n",
      "Rhodes, A. et al. Surviving sepsis campaign: International guidelines for management of sepsis and septic shock: 2016. Crit. Care Med. 45, 486–552. https://doi.org/10.1097/ccm.0000000000002255 (2017).\n",
      "\n",
      "Kalil, A. C. et al. Infectious Diseases Society of America (IDSA) POSITION STATEMENT: Why IDSA Did Not Endorse the Surviving Sepsis Campaign Guidelines. Clin. Infect. Dis. 66, 1631–1635. https://doi.org/10.1093/cid/cix997 (2018).\n",
      "\n",
      "Evans, L. et al. Surviving sepsis campaign: International guidelines for management of sepsis and septic shock 2021. Intens. Care Med. https://doi.org/10.1007/s00134-021-06506-y (2021).\n",
      "\n",
      "Murphey, E., Fang, G. &amp; Sherwood, E. R. Endotoxin pretreatment improves bacterial clearance and decreases mortality in mice challenged with Staphylococcus aureus. Shock 29, 512–518 (2008).\n",
      "\n",
      "Lehner, M. D. et al. Improved innate immunity of endotoxin-tolerant mice increases resistance to Salmonella enterica serovar typhimurium infection despite attenuated cytokine response. Infect. Immun. 69, 463–471 (2001).\n",
      "\n",
      "Mair, K. et al. The porcine innate immune system: An update. Dev. Comp. Immunol. 45, 321–343 (2014).\n",
      "\n",
      "Meurens, F., Summerfield, A., Nauwynck, H., Saif, L. &amp; Gerdts, V. The pig: A model for human infectious diseases. Trends Microbiol. 20, 50–57 (2012).\n",
      "\n",
      "Koch, T. et al. Alterations of bacterial clearance induced by endotoxin and tumor necrosis factor. Infect. Immun. 61, 3143–3148 (1993).\n",
      "\n",
      "Skorup, P. et al. Beneficial antimicrobial effect of the addition of an aminoglycoside to a beta-lactam antibiotic in an E. coli porcine intensive care severe sepsis model. PLoS ONE 9, e90441. https://doi.org/10.1371/journal.pone.0090441 (2014).\n",
      "\n",
      "Kilkenny, C., Browne, W. J., Cuthill, I. C., Emerson, M. &amp; Altman, D. G. Improving bioscience research reporting: The ARRIVE guidelines for reporting animal research. PLoS Biol. 8, e1000412. https://doi.org/10.1371/journal.pbio.1000412 (2010).\n",
      "\n",
      "Mebius, R. E. &amp; Kraal, G. Structure and function of the spleen. Nat. Rev. Immunol. 5, 606–616. https://doi.org/10.1038/nri1669 (2005).\n",
      "\n",
      "Parker, G. A. &amp; Picut, C. A. Liver immunobiology. Toxicol. Pathol. 33, 52–62. https://doi.org/10.1080/01926230590522365 (2005).\n",
      "\n",
      "Yan, J., Li, S. &amp; Li, S. The role of the liver in sepsis. Int. Rev. Immunol. 33, 498–510 (2014).\n",
      "\n",
      "Hanslin, K. et al. The impact of the systemic inflammatory response on hepatic bacterial elimination in experimental abdominal sepsis. Intensive Care Med. Exp. 7, 52. https://doi.org/10.1186/s40635-019-0266-x (2019).\n",
      "\n",
      "Mayadas, T. N., Cullere, X. &amp; Lowell, C. A. The multifaceted functions of neutrophils. Annu. Rev. Pathol. 9, 181–218. https://doi.org/10.1146/annurev-pathol-020712-164023 (2014).\n",
      "\n",
      "Wang, G. Human antimicrobial peptides and proteins. Pharmaceuticals 7, 545–594. https://doi.org/10.3390/ph7050545 (2014).\n",
      "\n",
      "Dunkelberger, J. R. &amp; Song, W. C. Complement and its role in innate and adaptive immune responses. Cell Res. 20, 34–50. https://doi.org/10.1038/cr.2009.139 (2010).\n",
      "\n",
      "Papareddy, P. et al. Proteolysis of human thrombin generates novel host defense peptides. PLoS Pathog. 6, e1000857. https://doi.org/10.1371/journal.ppat.1000857 (2010).\n",
      "\n",
      "Menger, M. D. &amp; Vollmar, B. Surgical trauma: Hyperinflammation versus immunosuppression? Langenbecks Arch. Surg. 389, 475–484. https://doi.org/10.1007/s00423-004-0472-0 (2004).\n",
      "\n",
      "Stahel, P. F., Smith, W. R. &amp; Moore, E. E. Role of biological modifiers regulating the immune response after trauma. Injury 38, 1409–1422. https://doi.org/10.1016/j.injury.2007.09.023 (2007).\n",
      "\n",
      "Liljedahl Prytz, K. et al. Antibiotic treatment with one single dose of gentamicin at admittance in addition to a β-lactam antibiotic in the treatment of community-acquired bloodstream infection with sepsis. PLoS ONE 15, e0236864. https://doi.org/10.1371/journal.pone.0236864 (2020).\n",
      "\n",
      "Sanders, R. D., Hussell, T. &amp; Maze, M. Sedation &amp; immunomodulation. Crit. Care Clin. 25, 551–570 (2009).\n",
      "\n",
      "Galley, H., DiMatteo, M. &amp; Webster, N. Immunomodulation by anaesthetic, sedative and analgesic agents: Does it matter? Intensive Care Med. 26, 267–274 (2000).\n",
      "\n",
      "Wrigge, H. et al. Effects of mechanical ventilation on release of cytokines into systemic circulation in patients with normal pulmonary function. Anesthesiology 93, 1413–1417 (2000).\n",
      "\n",
      "Osuchowski, M. F. et al. Minimum quality threshold in pre-clinical sepsis studies (MQTiPSS): An international expert consensus initiative for improvement of animal modeling in sepsis. Shock 50, 377–380. https://doi.org/10.1097/shk.0000000000001212 (2018).\n",
      "\n",
      "Piper, R. D., Cook, D. J., Bone, R. C. &amp; Sibbald, W. J. Introducing Critical Appraisal to studies of animal models investigating novel therapies in sepsis. Crit. Care Med. 24, 2059–2070. https://doi.org/10.1097/00003246-199612000-00021 (1996).\n",
      "\n",
      "Laupland, K. B. &amp; Church, D. L. Population-based epidemiology and microbiology of community-onset bloodstream infections. Clin. Microbiol. Rev. 27, 647–664. https://doi.org/10.1128/cmr.00002-14 (2014).\n",
      "\n",
      "Rogers, D. E. Host mechanisms which act to remove bacteria from the blood stream. Bacteriol. Rev. 24, 50 (1960).\n",
      "\n",
      "Download references\n"
     ]
    }
   ],
   "source": [
    "ref_index = html.find(\"References\")\n",
    "start_ref = ref_index + len(\"References\")\n",
    "end_ref=html.find(\"Acknowledgements\")\n",
    "end=html[start_ref:end_ref]\n",
    "\n",
    "pattern = \"<p.*?>.*?</p.*?>\"\n",
    "match_results = re.findall(pattern, end, re.IGNORECASE)\n",
    "ref = ''\n",
    "for i in match_results:\n",
    "        ref=ref+'\\n\\n'+i\n",
    "\n",
    "ref = re.sub(\"<.*?>\", \"\", ref) \n",
    "\n",
    "print(\"\\n\\nReferance : \\n\",ref)"
   ]
  },
  {
   "cell_type": "code",
   "execution_count": 7,
   "id": "203d6952",
   "metadata": {},
   "outputs": [],
   "source": [
    "dic={\"Title\":title,\"Abstract\":abt,\"number of words in the abstract\":len(abt.split()),\"Number of words in the body\":len(body_1)}\n",
    "df1=pd.DataFrame(dic,index=[0])\n",
    "df1.to_csv(r\"D:\\Users\\Desktop\\Intern_test\\paper_stats.csv\")"
   ]
  },
  {
   "cell_type": "code",
   "execution_count": 8,
   "id": "e92f770a",
   "metadata": {},
   "outputs": [],
   "source": [
    "ref_index = html.find(\"References\")\n",
    "start_ref = ref_index + len(\"References\")\n",
    "end_ref=html.find(\"Acknowledgements\")\n",
    "end=html[start_ref:end_ref]\n",
    "\n",
    "pattern = \"<p.*?>.*?</p.*?>\"\n",
    "match_results = re.findall(pattern, end, re.IGNORECASE)\n",
    "reff=[]\n",
    "for i in match_results:\n",
    "    reff.append(re.sub(\"<.*?>\", \"\", i))\n",
    "    \n",
    "df=pd.DataFrame({},columns=['Reference','Link'])\n",
    "li=[]\n",
    "r=[]\n",
    "for i in reff:\n",
    "    r.append(i)\n",
    "    li.append(re.findall(r'(https?://\\S+)', i))\n",
    "df['Link']=li[0:-1]\n",
    "df['Reference']=r[0:-1]\n",
    "df.to_csv(r\"D:\\Users\\Desktop\\Intern_test\\references.csv\")"
   ]
  }
 ],
 "metadata": {
  "kernelspec": {
   "display_name": "Python 3 (ipykernel)",
   "language": "python",
   "name": "python3"
  },
  "language_info": {
   "codemirror_mode": {
    "name": "ipython",
    "version": 3
   },
   "file_extension": ".py",
   "mimetype": "text/x-python",
   "name": "python",
   "nbconvert_exporter": "python",
   "pygments_lexer": "ipython3",
   "version": "3.9.12"
  }
 },
 "nbformat": 4,
 "nbformat_minor": 5
}
